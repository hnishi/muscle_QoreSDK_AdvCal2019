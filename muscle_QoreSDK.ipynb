{
 "cells": [
  {
   "cell_type": "markdown",
   "metadata": {
    "colab_type": "text",
    "id": "wWvi-NkazeQC"
   },
   "source": [
    "# 必要なライブラリを読み込む"
   ]
  },
  {
   "cell_type": "code",
   "execution_count": 20,
   "metadata": {
    "colab": {},
    "colab_type": "code",
    "id": "6sp_8vI9vKKZ"
   },
   "outputs": [],
   "source": [
    "from qore_sdk.client import WebQoreClient\n",
    "import qore_sdk.utils\n",
    "from sklearn import model_selection\n",
    "from sklearn.metrics import accuracy_score, f1_score\n",
    "from sklearn.neural_network import MLPClassifier\n",
    "from sklearn.linear_model import LogisticRegression\n",
    "import time\n",
    "import numpy as np\n",
    "import os"
   ]
  },
  {
   "cell_type": "markdown",
   "metadata": {
    "colab_type": "text",
    "id": "Y4i401tUtUBH"
   },
   "source": [
    "# データの読み込み"
   ]
  },
  {
   "cell_type": "code",
   "execution_count": 65,
   "metadata": {
    "colab": {
     "base_uri": "https://localhost:8080/",
     "height": 34
    },
    "colab_type": "code",
    "id": "F6GQoYD-zsG6",
    "outputId": "79e7c379-34de-4c19-f8d2-85fccd7e8094"
   },
   "outputs": [],
   "source": [
    "def load_xyz(str_dir):\n",
    "    with open(os.path.join(str_dir, 'x.txt'), 'r') as f:\n",
    "        x = np.loadtxt(f, delimiter=',', usecols=1)\n",
    "    with open(os.path.join(str_dir, 'y.txt'), 'r') as f:\n",
    "        y = np.loadtxt(f, delimiter=',', usecols=1)\n",
    "    with open(os.path.join(str_dir, 'z.txt'), 'r') as f:\n",
    "        z = np.loadtxt(f, delimiter=',', usecols=1)\n",
    "    return np.stack([x, y, z], 1)  # 2D-array"
   ]
  },
  {
   "cell_type": "code",
   "execution_count": 117,
   "metadata": {},
   "outputs": [
    {
     "name": "stdout",
     "output_type": "stream",
     "text": [
      "./data/udetate\n",
      "./data/hukkin\n",
      "./data/squat\n",
      "./data/roller\n"
     ]
    }
   ],
   "source": [
    "list_data = [\n",
    "    './data/udetate', \n",
    "    './data/hukkin', \n",
    "    './data/squat', \n",
    "    './data/roller']\n",
    "\n",
    "list_X = []\n",
    "list_y = []\n",
    "j_label = 0  # incremental label for each data\n",
    "for i_data in list_data:\n",
    "    print(i_data)\n",
    "    array_loaded = load_xyz(i_data)\n",
    "    list_X.append(array_loaded)\n",
    "    array_label = np.repeat(j_label, array_loaded.shape[0])\n",
    "    list_y.append(array_label)\n",
    "    j_label += 1\n",
    "X_all = np.concatenate(list_X, 0)\n",
    "y_all = np.concatenate(list_y, 0)"
   ]
  },
  {
   "cell_type": "markdown",
   "metadata": {},
   "source": [
    "# 時系列を複数の小時系列に分割する。\n",
    "\n",
    "https://qcore-info.github.io/advent-calendar-2019/index.html#qore_sdk.utils.sliding_window"
   ]
  },
  {
   "cell_type": "code",
   "execution_count": 118,
   "metadata": {},
   "outputs": [
    {
     "name": "stdout",
     "output_type": "stream",
     "text": [
      "(2116, 3)\n",
      "(2017, 100, 3) (2017, 1)\n"
     ]
    }
   ],
   "source": [
    "print(X_all.shape)\n",
    "X_all, y_all = qore_sdk.utils.sliding_window(X_all, width=100, stepsize=1, axis=0, y=y_all, y_def='mode')\n",
    "print(X_all.shape, y_all.shape)"
   ]
  },
  {
   "cell_type": "markdown",
   "metadata": {},
   "source": [
    "# n_samples_per_classでクラス当たりのサンプル数を揃える。\n",
    "\n",
    "https://qcore-info.github.io/advent-calendar-2019/index.html#qore_sdk.utils.under_sample"
   ]
  },
  {
   "cell_type": "code",
   "execution_count": 120,
   "metadata": {},
   "outputs": [
    {
     "name": "stdout",
     "output_type": "stream",
     "text": [
      "[349 661 506 501]\n",
      "[349 349 349 349]\n"
     ]
    }
   ],
   "source": [
    "_, counts = np.unique(y_all, return_counts=True)\n",
    "print(counts)\n",
    "\n",
    "# サンプル数が一番少ないデータの数に合わせる\n",
    "X, y = qore_sdk.utils.under_sample(X_all, y_all.flatten(), n_samples_per_class=counts.min())\n",
    "\n",
    "_, counts = np.unique(y, return_counts=True)\n",
    "print(counts)"
   ]
  },
  {
   "cell_type": "code",
   "execution_count": null,
   "metadata": {},
   "outputs": [],
   "source": []
  },
  {
   "cell_type": "code",
   "execution_count": null,
   "metadata": {},
   "outputs": [],
   "source": []
  },
  {
   "cell_type": "code",
   "execution_count": null,
   "metadata": {},
   "outputs": [],
   "source": []
  },
  {
   "cell_type": "markdown",
   "metadata": {
    "colab_type": "text",
    "id": "hnzu_wxw25cZ"
   },
   "source": [
    "このままのデータで学習しても構わないが、  \n",
    "ラベルが順番に並んでいるなどの偏りが見られるため、データ全体を結合しシャッフルする。"
   ]
  },
  {
   "cell_type": "code",
   "execution_count": 0,
   "metadata": {
    "colab": {
     "base_uri": "https://localhost:8080/",
     "height": 85
    },
    "colab_type": "code",
    "id": "SAOvyKgS225B",
    "outputId": "cb4d1efd-67c3-4a84-d81c-35170627519f"
   },
   "outputs": [
    {
     "name": "stdout",
     "output_type": "stream",
     "text": [
      "(512, 29, 12)\n",
      "(512, 1)\n",
      "(128, 29, 12)\n",
      "(128, 1)\n"
     ]
    }
   ],
   "source": [
    "data = np.concatenate((X_train, X_test), axis=0)\n",
    "target = np.concatenate((y_train, y_test), axis=0)\n",
    "X_train, X_test, y_train, y_test = model_selection.train_test_split(\n",
    "    data, target, test_size=0.2, random_state=1\n",
    ")\n",
    "\n",
    "print(X_train.shape)\n",
    "print(y_train.shape)\n",
    "print(X_test.shape)\n",
    "print(y_test.shape)"
   ]
  },
  {
   "cell_type": "markdown",
   "metadata": {
    "colab_type": "text",
    "id": "-_EojGxE1scq"
   },
   "source": [
    "# Qoreクライアントを準備する\n",
    "事前に発行されたユーザーネーム、パスワード、Endpointが必要  \n",
    "詳しくは[Advent Calenderの公式Github](https://github.com/qcore-info/advent-calendar-2019)を参照"
   ]
  },
  {
   "cell_type": "code",
   "execution_count": 0,
   "metadata": {
    "colab": {},
    "colab_type": "code",
    "id": "DHXYqKqc05Zx"
   },
   "outputs": [],
   "source": [
    "client = WebQoreClient(username=\"\", \n",
    "                       password=\"\", \n",
    "                       endpoint=\"\")"
   ]
  },
  {
   "cell_type": "markdown",
   "metadata": {
    "colab_type": "text",
    "id": "gEJUGAqm8c0M"
   },
   "source": [
    "学習を行う"
   ]
  },
  {
   "cell_type": "code",
   "execution_count": 0,
   "metadata": {
    "colab": {
     "base_uri": "https://localhost:8080/",
     "height": 34
    },
    "colab_type": "code",
    "id": "jWbZJtH32ADt",
    "outputId": "2250c28f-46a9-4eb7-aedd-8891af0616a0"
   },
   "outputs": [
    {
     "name": "stdout",
     "output_type": "stream",
     "text": [
      "{'res': 'ok', 'train_time': 1.2235112190246582}\n"
     ]
    }
   ],
   "source": [
    "start = time.time()\n",
    "res = client.classifier_train(X=X_train, Y=y_train)\n",
    "print(res)"
   ]
  },
  {
   "cell_type": "markdown",
   "metadata": {
    "colab_type": "text",
    "id": "EkJFSL7w8fTj"
   },
   "source": [
    "`\n",
    "classifier_test\n",
    "`を用いると、精度が簡単に求められて便利\n",
    "\n",
    "\n"
   ]
  },
  {
   "cell_type": "code",
   "execution_count": 0,
   "metadata": {
    "colab": {
     "base_uri": "https://localhost:8080/",
     "height": 34
    },
    "colab_type": "code",
    "id": "DwOZ8ZGd2M--",
    "outputId": "40520ca9-7758-4a2e-a1c5-070d78deefdd"
   },
   "outputs": [
    {
     "name": "stdout",
     "output_type": "stream",
     "text": [
      "{'accuracy': 0.9921875, 'f1': 0.9922253787878788, 'res': 'ok'}\n"
     ]
    }
   ],
   "source": [
    "res = client.classifier_test(X=X_test, Y=y_test)\n",
    "print(res)"
   ]
  },
  {
   "cell_type": "markdown",
   "metadata": {
    "colab_type": "text",
    "id": "uefLZ3wd8rZd"
   },
   "source": [
    "最後には推論もしてみる"
   ]
  },
  {
   "cell_type": "code",
   "execution_count": 0,
   "metadata": {
    "colab": {
     "base_uri": "https://localhost:8080/",
     "height": 105
    },
    "colab_type": "code",
    "id": "PH5l5IPF2S8w",
    "outputId": "e860a970-2928-4094-be20-67ee410ce0ea"
   },
   "outputs": [
    {
     "name": "stdout",
     "output_type": "stream",
     "text": [
      "acc= 0.9921875\n",
      "f1= 0.9921496212121212\n",
      "elapsed_time:3.022348165512085[sec]\n",
      "[5, 9, 7, 1, 3, 3, 4, 9, 9, 3, 8, 2, 1, 6, 9, 7, 3, 4, 6, 9, 1, 4, 8, 1, 8, 3, 7, 7, 8, 4, 8, 4, 7, 2, 6, 7, 3, 9, 4, 2, 8, 3, 7, 6, 5, 4, 2, 1, 8, 7, 2, 7, 3, 6, 5, 2, 5, 7, 1, 4, 2, 4, 8, 2, 7, 1, 8, 9, 3, 7, 4, 6, 8, 8, 3, 7, 3, 1, 6, 2, 3, 8, 7, 9, 8, 3, 7, 2, 4, 5, 3, 2, 6, 3, 5, 8, 3, 8, 6, 9, 8, 3, 6, 1, 9, 2, 3, 7, 6, 3, 4, 9, 5, 8, 8, 3, 3, 3, 1, 8, 5, 3, 9, 4, 7, 4, 1, 8]\n"
     ]
    }
   ],
   "source": [
    "res = client.classifier_predict(X=X_test)\n",
    "print(\"acc=\", accuracy_score(y_test.tolist(), res[\"Y\"]))\n",
    "print(\"f1=\", f1_score(y_test.tolist(), res[\"Y\"], average=\"weighted\"))\n",
    "elapsed_time = time.time() - start\n",
    "print(\"elapsed_time:{0}\".format(elapsed_time) + \"[sec]\")\n",
    "print(res['Y'])\n"
   ]
  },
  {
   "cell_type": "markdown",
   "metadata": {
    "colab_type": "text",
    "id": "087J3hmc6lqv"
   },
   "source": [
    "ちなみに、サーバーはAWSのMediumで動いている  \n",
    "メモリサイズは1GB"
   ]
  },
  {
   "cell_type": "markdown",
   "metadata": {
    "colab_type": "text",
    "id": "szVXRg3k3thc"
   },
   "source": [
    "# 参考\n",
    "単純な線形回帰、簡単な深層学習と比較する"
   ]
  },
  {
   "cell_type": "code",
   "execution_count": 0,
   "metadata": {
    "colab": {
     "base_uri": "https://localhost:8080/",
     "height": 241
    },
    "colab_type": "code",
    "id": "rWuixZTz2toL",
    "outputId": "1270efce-72cb-45c9-b6a4-0af8be0209ae"
   },
   "outputs": [
    {
     "name": "stdout",
     "output_type": "stream",
     "text": [
      "===LogisticRegression(Using Sklearn)===\n"
     ]
    },
    {
     "name": "stderr",
     "output_type": "stream",
     "text": [
      "/usr/local/lib/python3.6/dist-packages/sklearn/linear_model/logistic.py:432: FutureWarning: Default solver will be changed to 'lbfgs' in 0.22. Specify a solver to silence this warning.\n",
      "  FutureWarning)\n",
      "/usr/local/lib/python3.6/dist-packages/sklearn/linear_model/logistic.py:469: FutureWarning: Default multi_class will be changed to 'auto' in 0.22. Specify the multi_class option to silence this warning.\n",
      "  \"this warning.\", FutureWarning)\n"
     ]
    },
    {
     "name": "stdout",
     "output_type": "stream",
     "text": [
      "elapsed_time:0.21763110160827637[sec]\n",
      "acc= 0.9765625\n",
      "f1= 0.9761245153216563\n",
      "===MLP(Using Sklearn)===\n",
      "elapsed_time:1.273435354232788[sec]\n",
      "acc= 0.9609375\n",
      "f1= 0.9602474709896586\n"
     ]
    }
   ],
   "source": [
    "X_train = X_train.reshape(len(X_train), -1).astype(np.float64)\n",
    "X_test = X_test.reshape(len(X_test), -1).astype(np.float64)\n",
    "y_train = np.ravel(y_train)\n",
    "y_test = np.ravel(y_test)\n",
    "\n",
    "print(\"===LogisticRegression(Using Sklearn)===\")\n",
    "start = time.time()\n",
    "lr_cls = LogisticRegression(C=9.0)\n",
    "lr_cls.fit(X_train, y_train)\n",
    "elapsed_time = time.time() - start\n",
    "print(\"elapsed_time:{0}\".format(elapsed_time) + \"[sec]\")\n",
    "res = lr_cls.predict(X=X_test)\n",
    "print(\"acc=\", accuracy_score(y_test.tolist(), res))\n",
    "print(\"f1=\", f1_score(y_test.tolist(), res, average=\"weighted\"))\n",
    "\n",
    "print(\"===MLP(Using Sklearn)===\")\n",
    "start = time.time()\n",
    "mlp_cls = MLPClassifier(hidden_layer_sizes=(100, 100, 100, 10))\n",
    "mlp_cls.fit(X_train, y_train)\n",
    "elapsed_time = time.time() - start\n",
    "print(\"elapsed_time:{0}\".format(elapsed_time) + \"[sec]\")\n",
    "res = mlp_cls.predict(X=X_test)\n",
    "print(\"acc=\", accuracy_score(y_test.tolist(), res))\n",
    "print(\"f1=\", f1_score(y_test.tolist(), res, average=\"weighted\"))"
   ]
  }
 ],
 "metadata": {
  "colab": {
   "collapsed_sections": [],
   "name": "muscle_QoreSDK.ipynb",
   "provenance": [],
   "toc_visible": true
  },
  "kernelspec": {
   "display_name": "Python 3",
   "language": "python",
   "name": "python3"
  },
  "language_info": {
   "codemirror_mode": {
    "name": "ipython",
    "version": 3
   },
   "file_extension": ".py",
   "mimetype": "text/x-python",
   "name": "python",
   "nbconvert_exporter": "python",
   "pygments_lexer": "ipython3",
   "version": "3.7.4"
  }
 },
 "nbformat": 4,
 "nbformat_minor": 1
}
